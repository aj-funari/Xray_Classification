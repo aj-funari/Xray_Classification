{
 "cells": [
  {
   "cell_type": "code",
   "execution_count": 1,
   "metadata": {},
   "outputs": [
    {
     "name": "stdout",
     "output_type": "stream",
     "text": [
      "c:\\Users\\flyin\\OneDrive - Indiana University\\Fall23\\Intro to Intelligent Systems\\GitHub\\Xray_Classification\\AJ Test Scripts/input\n"
     ]
    }
   ],
   "source": [
    "import os\n",
    "from kaggle.api.kaggle_api_extended import KaggleApi\n",
    "\n",
    "# Set your Kaggle API credentials (make sure to upload your kaggle.json file to your notebook)\n",
    "os.environ[\"KAGGLE_USERNAME\"] = \"ajfunari\"\n",
    "os.environ[\"KAGGLE_KEY\"] = \"cb66eed558fe1d91db565e0d279b2fdb\"\n",
    "\n",
    "# # Create a Kaggle API object\n",
    "api = KaggleApi()\n",
    "api.authenticate()\n",
    "\n",
    "# # Specify the dataset you want to download\n",
    "dataset_name = \"tawsifurrahman/covid19-radiography-database\"\n",
    "\n",
    "# # Set the destination folder for the downloaded dataset\n",
    "current_directory = os.getcwd()\n",
    "download_path = \"/input\"\n",
    "path = current_directory + download_path\n",
    "print(path)\n",
    "\n",
    "# # Download the dataset\n",
    "api.dataset_download_files(dataset_name, path=path, unzip=True)  # 800 MB"
   ]
  },
  {
   "cell_type": "code",
   "execution_count": 3,
   "metadata": {},
   "outputs": [
    {
     "name": "stdout",
     "output_type": "stream",
     "text": [
      "(tensor([[[-0.1314, -1.8439, -2.1179,  ..., -2.1008, -1.9467, -0.7650],\n",
      "         [-1.5699, -2.0494, -2.1179,  ..., -2.1008, -2.0665, -1.7754],\n",
      "         [-2.0837, -2.1179, -2.1179,  ..., -2.1008, -2.0323, -1.8610],\n",
      "         ...,\n",
      "         [-1.0048, -1.0562, -0.7993,  ..., -2.0837, -2.0323, -1.9124],\n",
      "         [-0.6794, -0.9192, -0.6965,  ..., -2.1008, -1.9467, -1.3644],\n",
      "         [ 0.0056, -0.7308, -0.6281,  ..., -2.1179, -1.7754, -0.2342]],\n",
      "\n",
      "        [[-0.0049, -1.7556, -2.0357,  ..., -2.0182, -1.8606, -0.6527],\n",
      "         [-1.4755, -1.9657, -2.0357,  ..., -2.0182, -1.9832, -1.6856],\n",
      "         [-2.0007, -2.0357, -2.0357,  ..., -2.0182, -1.9482, -1.7731],\n",
      "         ...,\n",
      "         [-0.8978, -0.9503, -0.6877,  ..., -2.0007, -1.9482, -1.8256],\n",
      "         [-0.5651, -0.8102, -0.5826,  ..., -2.0182, -1.8606, -1.2654],\n",
      "         [ 0.1352, -0.6176, -0.5126,  ..., -2.0357, -1.6856, -0.1099]],\n",
      "\n",
      "        [[ 0.2173, -1.5256, -1.8044,  ..., -1.7870, -1.6302, -0.4275],\n",
      "         [-1.2467, -1.7347, -1.8044,  ..., -1.7870, -1.7522, -1.4559],\n",
      "         [-1.7696, -1.8044, -1.8044,  ..., -1.7870, -1.7173, -1.5430],\n",
      "         ...,\n",
      "         [-0.6715, -0.7238, -0.4624,  ..., -1.7696, -1.7173, -1.5953],\n",
      "         [-0.3404, -0.5844, -0.3578,  ..., -1.7870, -1.6302, -1.0376],\n",
      "         [ 0.3568, -0.3927, -0.2881,  ..., -1.8044, -1.4559,  0.1128]]]), 0)\n",
      "torch.Size([3, 224, 224])\n"
     ]
    }
   ],
   "source": [
    "from torchvision import transforms\n",
    "from torchvision.datasets import ImageFolder\n",
    "\n",
    "# image directory\n",
    "all_images = '/input/COVID-19_Radiography_Dataset'\n",
    "\n",
    "# Set the path to your image folders\n",
    "all_path = os.getcwd() + all_images\n",
    "\n",
    "'''\n",
    "Reshape images to (3,224, 224)\n",
    "- torch.Size([3, 224, 224])\n",
    "Normalize images\n",
    "'''\n",
    "transform = transforms.Compose([\n",
    "    transforms.Resize((224,224)),\n",
    "    transforms.ToTensor(),\n",
    "    transforms.Normalize(mean=[0.485, 0.456, 0.406], std=[0.229, 0.224, 0.225]),\n",
    "])\n",
    "\n",
    "'''\n",
    "ImageFolder will store all images in COVID folder and Normal folder into one dataset. Target 0 \n",
    "is assigned to COVID images. Target 1 is assigned to Normal images.\n",
    "'''\n",
    "# Create datasets\n",
    "all_images = ImageFolder(all_path, transform=transform)  # 10,192 + 3,616 = 13,808\n",
    "for i in range(len(all_images)):\n",
    "    print(all_images[i])\n",
    "    print(all_images[i][0].shape)\n",
    "    break"
   ]
  },
  {
   "cell_type": "code",
   "execution_count": null,
   "metadata": {},
   "outputs": [],
   "source": []
  }
 ],
 "metadata": {
  "kernelspec": {
   "display_name": "Python 3",
   "language": "python",
   "name": "python3"
  },
  "language_info": {
   "codemirror_mode": {
    "name": "ipython",
    "version": 3
   },
   "file_extension": ".py",
   "mimetype": "text/x-python",
   "name": "python",
   "nbconvert_exporter": "python",
   "pygments_lexer": "ipython3",
   "version": "3.11.5"
  }
 },
 "nbformat": 4,
 "nbformat_minor": 2
}
