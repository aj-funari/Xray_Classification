{
 "cells": [
  {
   "cell_type": "code",
   "execution_count": 73,
   "metadata": {},
   "outputs": [
    {
     "name": "stdout",
     "output_type": "stream",
     "text": [
      "c:\\Users\\flyin\\OneDrive\\Desktop\\Github\\Xray_Classification/input\n"
     ]
    }
   ],
   "source": [
    "import os\n",
    "from kaggle.api.kaggle_api_extended import KaggleApi\n",
    "\n",
    "# Set your Kaggle API credentials (make sure to upload your kaggle.json file to your notebook)\n",
    "# os.environ[\"KAGGLE_USERNAME\"] = \"ajfunari\"\n",
    "# os.environ[\"KAGGLE_KEY\"] = \"cb66eed558fe1d91db565e0d279b2fdb\"\n",
    "\n",
    "# # Create a Kaggle API object\n",
    "api = KaggleApi()\n",
    "api.authenticate()\n",
    "\n",
    "# # Specify the dataset you want to download\n",
    "dataset_name = \"tawsifurrahman/covid19-radiography-database\"\n",
    "\n",
    "# # Set the destination folder for the downloaded dataset\n",
    "current_directory = os.getcwd()\n",
    "download_path = \"/input\"\n",
    "path = current_directory + download_path\n",
    "print(path)\n",
    "\n",
    "# # Download the dataset\n",
    "api.dataset_download_files(dataset_name, path=path, unzip=True)  # 800 MB"
   ]
  },
  {
   "cell_type": "code",
   "execution_count": 97,
   "metadata": {},
   "outputs": [],
   "source": [
    "from torchvision.io import read_image\n",
    "from torch.utils.data import Dataset\n",
    "import pandas as pd\n",
    "\n",
    "class CustomImageDataset(Dataset):\n",
    "    def __init__(self, annotations_file, img_dir, transform=None, target_transform=None):\n",
    "        self.img_labels = pd.read_excel(annotations_file)\n",
    "        self.img_dir = img_dir\n",
    "        self.transform = transform\n",
    "        self.target_transform = target_transform\n",
    "\n",
    "    def __len__(self):\n",
    "        return len(self.img_labels)\n",
    "\n",
    "    def __getitem__(self, idx):\n",
    "        img_path = os.path.join(self.img_dir, self.img_labels.iloc[idx, 0])\n",
    "        image = read_image(img_path)\n",
    "        label = self.img_labels.iloc[idx, 1]\n",
    "        if self.transform:\n",
    "            image = self.transform(image)\n",
    "        if self.target_transform:\n",
    "            label = self.target_transform(label)\n",
    "        return image, label"
   ]
  },
  {
   "cell_type": "code",
   "execution_count": 98,
   "metadata": {},
   "outputs": [],
   "source": [
    "import cv2\n",
    "import matplotlib.pyplot as plt\n",
    "\n",
    "# current working directory\n",
    "current_directory = os.getcwd()\n",
    "\n",
    "# image directory\n",
    "img_folder = '/input/COVID-19_Radiography_Dataset/COVID/images'\n",
    "folder_path = current_directory + img_folder\n",
    "image_files = os.listdir(folder_path)\n",
    "\n",
    "# visualize one image\n",
    "for image_file in image_files:\n",
    "    image_path = os.path.join(folder_path, image_file)\n",
    "    image = cv2.imread(image_path)\n",
    "    # plt.imshow(image)\n",
    "    break\n",
    "\n",
    "# metadata directory\n",
    "annotated_file = '/input/COVID-19_Radiography_Dataset/COVID.metadata.xlsx'\n",
    "annotated_file_path = current_directory + annotated_file\n",
    "df = pd.read_excel(annotated_file_path)"
   ]
  },
  {
   "cell_type": "code",
   "execution_count": 107,
   "metadata": {},
   "outputs": [],
   "source": [
    "data = CustomImageDataset(annotated_file_path, folder_path)\n",
    "# print(data.__getitem__(1))"
   ]
  }
 ],
 "metadata": {
  "kernelspec": {
   "display_name": "Python 3",
   "language": "python",
   "name": "python3"
  },
  "language_info": {
   "codemirror_mode": {
    "name": "ipython",
    "version": 3
   },
   "file_extension": ".py",
   "mimetype": "text/x-python",
   "name": "python",
   "nbconvert_exporter": "python",
   "pygments_lexer": "ipython3",
   "version": "3.11.5"
  }
 },
 "nbformat": 4,
 "nbformat_minor": 2
}
